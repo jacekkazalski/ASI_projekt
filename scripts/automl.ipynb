{
 "cells": [
  {
   "cell_type": "code",
   "execution_count": 3,
   "metadata": {},
   "outputs": [],
   "source": [
    "import pandas as pd\n",
    "from sklearn.model_selection import train_test_split\n",
    "from sklearn.metrics import mean_absolute_error, r2_score\n",
    "from autosklearn.regression import AutoSklearnRegressor\n",
    "from joblib import dump"
   ]
  },
  {
   "cell_type": "code",
   "execution_count": 4,
   "metadata": {},
   "outputs": [],
   "source": [
    "data = pd.read_csv('../data/data_cleaned.csv')"
   ]
  },
  {
   "cell_type": "code",
   "execution_count": 5,
   "metadata": {},
   "outputs": [
    {
     "data": {
      "text/plain": [
       "Unnamed: 0           int64\n",
       "brand               object\n",
       "model               object\n",
       "price_in_pln       float64\n",
       "mileage            float64\n",
       "gearbox             object\n",
       "engine_capacity    float64\n",
       "fuel_type           object\n",
       "city                object\n",
       "voivodeship         object\n",
       "year                 int64\n",
       "dtype: object"
      ]
     },
     "execution_count": 5,
     "metadata": {},
     "output_type": "execute_result"
    }
   ],
   "source": [
    "data.dtypes"
   ]
  },
  {
   "cell_type": "code",
   "execution_count": 6,
   "metadata": {},
   "outputs": [],
   "source": [
    "# Dropping text columns\n",
    "data.drop(columns=['model', 'city'], inplace=True)"
   ]
  },
  {
   "cell_type": "code",
   "execution_count": 7,
   "metadata": {},
   "outputs": [],
   "source": [
    "x = data.drop(columns=[\"price_in_pln\"])\n",
    "y = data[\"price_in_pln\"]\n",
    "\n",
    "x_train, x_test, y_train, y_test = train_test_split(x, y, test_size=0.2, random_state=0)"
   ]
  },
  {
   "cell_type": "code",
   "execution_count": null,
   "metadata": {},
   "outputs": [
    {
     "name": "stderr",
     "output_type": "stream",
     "text": [
      "/home/admin/anaconda3/envs/myenv/lib/python3.9/site-packages/autosklearn/data/feature_validator.py:318: UserWarning: Input Column brand has generic type object. Autosklearn will treat this column as string. Please ensure that this setting is suitable for your task.\n",
      "  warnings.warn(\n",
      "/home/admin/anaconda3/envs/myenv/lib/python3.9/site-packages/autosklearn/data/feature_validator.py:318: UserWarning: Input Column gearbox has generic type object. Autosklearn will treat this column as string. Please ensure that this setting is suitable for your task.\n",
      "  warnings.warn(\n",
      "/home/admin/anaconda3/envs/myenv/lib/python3.9/site-packages/autosklearn/data/feature_validator.py:318: UserWarning: Input Column fuel_type has generic type object. Autosklearn will treat this column as string. Please ensure that this setting is suitable for your task.\n",
      "  warnings.warn(\n",
      "/home/admin/anaconda3/envs/myenv/lib/python3.9/site-packages/autosklearn/data/feature_validator.py:318: UserWarning: Input Column voivodeship has generic type object. Autosklearn will treat this column as string. Please ensure that this setting is suitable for your task.\n",
      "  warnings.warn(\n"
     ]
    },
    {
     "name": "stdout",
     "output_type": "stream",
     "text": [
      "[WARNING] [2024-11-20 15:45:55,832:Client-EnsembleBuilder] No runs were available to build an ensemble from\n",
      "[WARNING] [2024-11-20 15:46:08,947:Client-EnsembleBuilder] No runs were available to build an ensemble from\n",
      "[WARNING] [2024-11-20 15:46:10,071:Client-EnsembleBuilder] No runs were available to build an ensemble from\n",
      "[WARNING] [2024-11-20 15:46:19,380:Client-EnsembleBuilder] No runs were available to build an ensemble from\n",
      "[WARNING] [2024-11-20 15:46:20,601:Client-EnsembleBuilder] No runs were available to build an ensemble from\n",
      "[WARNING] [2024-11-20 15:46:32,070:Client-EnsembleBuilder] No runs were available to build an ensemble from\n",
      "[WARNING] [2024-11-20 15:46:41,896:Client-EnsembleBuilder] No runs were available to build an ensemble from\n",
      "[WARNING] [2024-11-20 15:46:54,549:Client-EnsembleBuilder] No runs were available to build an ensemble from\n"
     ]
    }
   ],
   "source": [
    "\n",
    "\n",
    "automl = AutoSklearnRegressor(\n",
    "    time_left_for_this_task=1200,\n",
    "    per_run_time_limit=60,\n",
    "    seed=0,\n",
    ")\n",
    "automl.fit(x_train, y_train)\n",
    "\n",
    "y_pred = automl.predict(x_test)\n",
    "\n",
    "print('MAE: ', mean_absolute_error(y_test, y_pred))\n",
    "print('R2: ', r2_score(y_test, y_pred))"
   ]
  },
  {
   "cell_type": "code",
   "execution_count": null,
   "metadata": {},
   "outputs": [
    {
     "data": {
      "text/plain": [
       "{9: {'model_id': 9,\n",
       "  'rank': 1,\n",
       "  'cost': 0.3665352973733311,\n",
       "  'ensemble_weight': 0.18,\n",
       "  'data_preprocessor': <autosklearn.pipeline.components.data_preprocessing.DataPreprocessorChoice at 0x7f20bef6abe0>,\n",
       "  'feature_preprocessor': <autosklearn.pipeline.components.feature_preprocessing.FeaturePreprocessorChoice at 0x7f20bef414f0>,\n",
       "  'regressor': <autosklearn.pipeline.components.regression.RegressorChoice at 0x7f20bdd5a190>,\n",
       "  'sklearn_regressor': HistGradientBoostingRegressor(l2_regularization=2.208787572338781e-05,\n",
       "                                learning_rate=0.036087332404571744, max_iter=512,\n",
       "                                max_leaf_nodes=64, min_samples_leaf=3,\n",
       "                                n_iter_no_change=18, random_state=0,\n",
       "                                validation_fraction=None, warm_start=True)},\n",
       " 13: {'model_id': 13,\n",
       "  'rank': 2,\n",
       "  'cost': 0.36738939734581877,\n",
       "  'ensemble_weight': 0.16,\n",
       "  'data_preprocessor': <autosklearn.pipeline.components.data_preprocessing.DataPreprocessorChoice at 0x7f20bef90550>,\n",
       "  'feature_preprocessor': <autosklearn.pipeline.components.feature_preprocessing.FeaturePreprocessorChoice at 0x7f20bdc6bdf0>,\n",
       "  'regressor': <autosklearn.pipeline.components.regression.RegressorChoice at 0x7f20bdc6b160>,\n",
       "  'sklearn_regressor': HistGradientBoostingRegressor(l2_regularization=6.536723381440492e-05,\n",
       "                                learning_rate=0.03940103065495631, max_iter=512,\n",
       "                                max_leaf_nodes=77, min_samples_leaf=9,\n",
       "                                n_iter_no_change=7, random_state=0,\n",
       "                                validation_fraction=None, warm_start=True)},\n",
       " 22: {'model_id': 22,\n",
       "  'rank': 3,\n",
       "  'cost': 0.35284152180173844,\n",
       "  'ensemble_weight': 0.62,\n",
       "  'data_preprocessor': <autosklearn.pipeline.components.data_preprocessing.DataPreprocessorChoice at 0x7f20f109a7f0>,\n",
       "  'feature_preprocessor': <autosklearn.pipeline.components.feature_preprocessing.FeaturePreprocessorChoice at 0x7f20bc33a550>,\n",
       "  'regressor': <autosklearn.pipeline.components.regression.RegressorChoice at 0x7f20bc33a040>,\n",
       "  'sklearn_regressor': HistGradientBoostingRegressor(l2_regularization=0.005746611563553693,\n",
       "                                learning_rate=0.0913971028976721, max_iter=512,\n",
       "                                max_leaf_nodes=9, min_samples_leaf=2,\n",
       "                                n_iter_no_change=20, random_state=0,\n",
       "                                validation_fraction=None, warm_start=True)},\n",
       " 49: {'model_id': 49,\n",
       "  'rank': 4,\n",
       "  'cost': 0.5807918318560473,\n",
       "  'ensemble_weight': 0.04,\n",
       "  'data_preprocessor': <autosklearn.pipeline.components.data_preprocessing.DataPreprocessorChoice at 0x7f20be4de490>,\n",
       "  'feature_preprocessor': <autosklearn.pipeline.components.feature_preprocessing.FeaturePreprocessorChoice at 0x7f20b54a0a00>,\n",
       "  'regressor': <autosklearn.pipeline.components.regression.RegressorChoice at 0x7f20b5525fa0>,\n",
       "  'sklearn_regressor': MLPRegressor(alpha=0.04778531776640616, beta_1=0.999, beta_2=0.9,\n",
       "               hidden_layer_sizes=(89,), learning_rate_init=0.0051797995274544175,\n",
       "               max_iter=32, n_iter_no_change=32, random_state=0,\n",
       "               validation_fraction=0.0, verbose=0, warm_start=True)}}"
      ]
     },
     "execution_count": 18,
     "metadata": {},
     "output_type": "execute_result"
    }
   ],
   "source": [
    "automl.show_models()"
   ]
  },
  {
   "cell_type": "code",
   "execution_count": null,
   "metadata": {},
   "outputs": [
    {
     "data": {
      "text/html": [
       "<div>\n",
       "<style scoped>\n",
       "    .dataframe tbody tr th:only-of-type {\n",
       "        vertical-align: middle;\n",
       "    }\n",
       "\n",
       "    .dataframe tbody tr th {\n",
       "        vertical-align: top;\n",
       "    }\n",
       "\n",
       "    .dataframe thead th {\n",
       "        text-align: right;\n",
       "    }\n",
       "</style>\n",
       "<table border=\"1\" class=\"dataframe\">\n",
       "  <thead>\n",
       "    <tr style=\"text-align: right;\">\n",
       "      <th></th>\n",
       "      <th>rank</th>\n",
       "      <th>ensemble_weight</th>\n",
       "      <th>type</th>\n",
       "      <th>cost</th>\n",
       "      <th>duration</th>\n",
       "    </tr>\n",
       "    <tr>\n",
       "      <th>model_id</th>\n",
       "      <th></th>\n",
       "      <th></th>\n",
       "      <th></th>\n",
       "      <th></th>\n",
       "      <th></th>\n",
       "    </tr>\n",
       "  </thead>\n",
       "  <tbody>\n",
       "    <tr>\n",
       "      <th>22</th>\n",
       "      <td>1</td>\n",
       "      <td>0.62</td>\n",
       "      <td>gradient_boosting</td>\n",
       "      <td>0.352842</td>\n",
       "      <td>38.088313</td>\n",
       "    </tr>\n",
       "    <tr>\n",
       "      <th>9</th>\n",
       "      <td>2</td>\n",
       "      <td>0.18</td>\n",
       "      <td>gradient_boosting</td>\n",
       "      <td>0.366535</td>\n",
       "      <td>25.076687</td>\n",
       "    </tr>\n",
       "    <tr>\n",
       "      <th>13</th>\n",
       "      <td>3</td>\n",
       "      <td>0.16</td>\n",
       "      <td>gradient_boosting</td>\n",
       "      <td>0.367389</td>\n",
       "      <td>52.243327</td>\n",
       "    </tr>\n",
       "    <tr>\n",
       "      <th>49</th>\n",
       "      <td>4</td>\n",
       "      <td>0.04</td>\n",
       "      <td>mlp</td>\n",
       "      <td>0.580792</td>\n",
       "      <td>41.293739</td>\n",
       "    </tr>\n",
       "  </tbody>\n",
       "</table>\n",
       "</div>"
      ],
      "text/plain": [
       "          rank  ensemble_weight               type      cost   duration\n",
       "model_id                                                               \n",
       "22           1             0.62  gradient_boosting  0.352842  38.088313\n",
       "9            2             0.18  gradient_boosting  0.366535  25.076687\n",
       "13           3             0.16  gradient_boosting  0.367389  52.243327\n",
       "49           4             0.04                mlp  0.580792  41.293739"
      ]
     },
     "execution_count": 19,
     "metadata": {},
     "output_type": "execute_result"
    }
   ],
   "source": [
    "automl.leaderboard()"
   ]
  },
  {
   "cell_type": "code",
   "execution_count": null,
   "metadata": {},
   "outputs": [
    {
     "data": {
      "text/plain": [
       "'auto-sklearn results:\\n  Dataset name: f844ca19-a733-11ef-9f63-f8a2d6b93135\\n  Metric: r2\\n  Best validation score: 0.647158\\n  Number of target algorithm runs: 51\\n  Number of successful target algorithm runs: 11\\n  Number of crashed target algorithm runs: 24\\n  Number of target algorithms that exceeded the time limit: 7\\n  Number of target algorithms that exceeded the memory limit: 9\\n'"
      ]
     },
     "execution_count": 20,
     "metadata": {},
     "output_type": "execute_result"
    }
   ],
   "source": [
    "automl.sprint_statistics()"
   ]
  },
  {
   "cell_type": "code",
   "execution_count": null,
   "metadata": {},
   "outputs": [
    {
     "data": {
      "text/plain": [
       "SimpleRegressionPipeline({'data_preprocessor:__choice__': 'feature_type', 'feature_preprocessor:__choice__': 'no_preprocessing', 'regressor:__choice__': 'gradient_boosting', 'data_preprocessor:feature_type:numerical_transformer:imputation:strategy': 'mean', 'data_preprocessor:feature_type:numerical_transformer:rescaling:__choice__': 'standardize', 'data_preprocessor:feature_type:text_transformer:text_encoding:__choice__': 'tfidf_encoding', 'data_preprocessor:feature_type:text_transformer:text_feature_reduction:n_components': 100, 'regressor:gradient_boosting:early_stop': 'train', 'regressor:gradient_boosting:l2_regularization': 0.005746611563553693, 'regressor:gradient_boosting:learning_rate': 0.0913971028976721, 'regressor:gradient_boosting:loss': 'least_squares', 'regressor:gradient_boosting:max_bins': 255, 'regressor:gradient_boosting:max_depth': 'None', 'regressor:gradient_boosting:max_leaf_nodes': 9, 'regressor:gradient_boosting:min_samples_leaf': 2, 'regressor:gradient_boosting:scoring': 'loss', 'regressor:gradient_boosting:tol': 1e-07, 'data_preprocessor:feature_type:text_transformer:text_encoding:tfidf_encoding:analyzer': 'char', 'data_preprocessor:feature_type:text_transformer:text_encoding:tfidf_encoding:binary': 'False', 'data_preprocessor:feature_type:text_transformer:text_encoding:tfidf_encoding:max_df': 1.0, 'data_preprocessor:feature_type:text_transformer:text_encoding:tfidf_encoding:min_df': 0.0, 'data_preprocessor:feature_type:text_transformer:text_encoding:tfidf_encoding:norm': 'l2', 'data_preprocessor:feature_type:text_transformer:text_encoding:tfidf_encoding:per_column': False, 'data_preprocessor:feature_type:text_transformer:text_encoding:tfidf_encoding:sublinear_tf': 'False', 'regressor:gradient_boosting:n_iter_no_change': 20, 'data_preprocessor:feature_type:text_transformer:text_encoding:tfidf_encoding:ngram_range_char': 4},\n",
       "dataset_properties={\n",
       "  'task': 4,\n",
       "  'sparse': False,\n",
       "  'multioutput': False,\n",
       "  'target_type': 'regression',\n",
       "  'signed': False})"
      ]
     },
     "execution_count": 23,
     "metadata": {},
     "output_type": "execute_result"
    }
   ],
   "source": [
    "best_model = automl.get_models_with_weights()[0][1]\n",
    "\n",
    "best_model"
   ]
  },
  {
   "cell_type": "code",
   "execution_count": null,
   "metadata": {},
   "outputs": [
    {
     "ename": "NameError",
     "evalue": "name 'best_model' is not defined",
     "output_type": "error",
     "traceback": [
      "\u001b[0;31m---------------------------------------------------------------------------\u001b[0m",
      "\u001b[0;31mNameError\u001b[0m                                 Traceback (most recent call last)",
      "Cell \u001b[0;32mIn[2], line 1\u001b[0m\n\u001b[0;32m----> 1\u001b[0m dump(\u001b[43mbest_model\u001b[49m, \u001b[38;5;124m\"\u001b[39m\u001b[38;5;124mgradient_boost_model.joblib\u001b[39m\u001b[38;5;124m\"\u001b[39m)\n",
      "\u001b[0;31mNameError\u001b[0m: name 'best_model' is not defined"
     ]
    }
   ],
   "source": [
    "dump(best_model, \"gradient_boost_model.joblib\")"
   ]
  }
 ],
 "metadata": {
  "kernelspec": {
   "display_name": "myenv",
   "language": "python",
   "name": "python3"
  },
  "language_info": {
   "codemirror_mode": {
    "name": "ipython",
    "version": 3
   },
   "file_extension": ".py",
   "mimetype": "text/x-python",
   "name": "python",
   "nbconvert_exporter": "python",
   "pygments_lexer": "ipython3",
   "version": "3.9.20"
  }
 },
 "nbformat": 4,
 "nbformat_minor": 2
}
