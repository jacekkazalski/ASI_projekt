{
 "cells": [
  {
   "cell_type": "code",
   "execution_count": 2,
   "metadata": {},
   "outputs": [],
   "source": [
    "import pandas as pd\n",
    "from sklearn.model_selection import train_test_split\n",
    "from sklearn.metrics import mean_absolute_error, r2_score\n",
    "from autosklearn.regression import AutoSklearnRegressor\n",
    "from joblib import dump"
   ]
  },
  {
   "cell_type": "code",
   "execution_count": 3,
   "metadata": {},
   "outputs": [],
   "source": [
    "data = pd.read_csv('../data/data_cleaned.csv')"
   ]
  },
  {
   "cell_type": "code",
   "execution_count": 4,
   "metadata": {},
   "outputs": [
    {
     "data": {
      "text/plain": [
       "Unnamed: 0           int64\n",
       "brand               object\n",
       "model               object\n",
       "price_in_pln       float64\n",
       "mileage            float64\n",
       "gearbox             object\n",
       "engine_capacity    float64\n",
       "fuel_type           object\n",
       "city                object\n",
       "voivodeship         object\n",
       "year                 int64\n",
       "dtype: object"
      ]
     },
     "execution_count": 4,
     "metadata": {},
     "output_type": "execute_result"
    }
   ],
   "source": [
    "data.dtypes"
   ]
  },
  {
   "cell_type": "code",
   "execution_count": 5,
   "metadata": {},
   "outputs": [],
   "source": [
    "# Dropping text columns\n",
    "data.drop(columns=['model', 'city'], inplace=True)"
   ]
  },
  {
   "cell_type": "code",
   "execution_count": 6,
   "metadata": {},
   "outputs": [],
   "source": [
    "x = data.drop(columns=[\"price_in_pln\"])\n",
    "y = data[\"price_in_pln\"]\n",
    "\n",
    "x_train, x_test, y_train, y_test = train_test_split(x, y, test_size=0.2, random_state=0)"
   ]
  },
  {
   "cell_type": "code",
   "execution_count": 7,
   "metadata": {},
   "outputs": [
    {
     "name": "stderr",
     "output_type": "stream",
     "text": [
      "/home/admin/anaconda3/envs/myenv/lib/python3.9/site-packages/autosklearn/data/feature_validator.py:318: UserWarning: Input Column brand has generic type object. Autosklearn will treat this column as string. Please ensure that this setting is suitable for your task.\n",
      "  warnings.warn(\n",
      "/home/admin/anaconda3/envs/myenv/lib/python3.9/site-packages/autosklearn/data/feature_validator.py:318: UserWarning: Input Column gearbox has generic type object. Autosklearn will treat this column as string. Please ensure that this setting is suitable for your task.\n",
      "  warnings.warn(\n",
      "/home/admin/anaconda3/envs/myenv/lib/python3.9/site-packages/autosklearn/data/feature_validator.py:318: UserWarning: Input Column fuel_type has generic type object. Autosklearn will treat this column as string. Please ensure that this setting is suitable for your task.\n",
      "  warnings.warn(\n",
      "/home/admin/anaconda3/envs/myenv/lib/python3.9/site-packages/autosklearn/data/feature_validator.py:318: UserWarning: Input Column voivodeship has generic type object. Autosklearn will treat this column as string. Please ensure that this setting is suitable for your task.\n",
      "  warnings.warn(\n"
     ]
    },
    {
     "name": "stdout",
     "output_type": "stream",
     "text": [
      "[WARNING] [2024-11-21 16:50:42,828:Client-EnsembleBuilder] No runs were available to build an ensemble from\n",
      "[WARNING] [2024-11-21 16:50:50,500:Client-EnsembleBuilder] No runs were available to build an ensemble from\n",
      "[WARNING] [2024-11-21 16:50:51,401:Client-EnsembleBuilder] No runs were available to build an ensemble from\n",
      "[WARNING] [2024-11-21 16:50:59,185:Client-EnsembleBuilder] No runs were available to build an ensemble from\n",
      "[WARNING] [2024-11-21 16:51:00,080:Client-EnsembleBuilder] No runs were available to build an ensemble from\n",
      "[WARNING] [2024-11-21 16:51:07,837:Client-EnsembleBuilder] No runs were available to build an ensemble from\n",
      "[WARNING] [2024-11-21 16:51:15,550:Client-EnsembleBuilder] No runs were available to build an ensemble from\n",
      "[WARNING] [2024-11-21 16:51:23,699:Client-EnsembleBuilder] No runs were available to build an ensemble from\n",
      "MAE:  26714.3671518407\n",
      "R2:  0.6529843818518992\n"
     ]
    }
   ],
   "source": [
    "\n",
    "\n",
    "automl = AutoSklearnRegressor(\n",
    "    time_left_for_this_task=1200,\n",
    "    per_run_time_limit=60,\n",
    "    seed=0,\n",
    ")\n",
    "automl.fit(x_train, y_train)\n",
    "\n",
    "y_pred = automl.predict(x_test)\n",
    "\n",
    "print('MAE: ', mean_absolute_error(y_test, y_pred))\n",
    "print('R2: ', r2_score(y_test, y_pred))"
   ]
  },
  {
   "cell_type": "code",
   "execution_count": 8,
   "metadata": {},
   "outputs": [
    {
     "data": {
      "text/plain": [
       "{10: {'model_id': 10,\n",
       "  'rank': 1,\n",
       "  'cost': 0.3665352973733311,\n",
       "  'ensemble_weight': 0.16,\n",
       "  'data_preprocessor': <autosklearn.pipeline.components.data_preprocessing.DataPreprocessorChoice at 0x7f9eecadd7f0>,\n",
       "  'feature_preprocessor': <autosklearn.pipeline.components.feature_preprocessing.FeaturePreprocessorChoice at 0x7f9eecad9520>,\n",
       "  'regressor': <autosklearn.pipeline.components.regression.RegressorChoice at 0x7f9eecad9b50>,\n",
       "  'sklearn_regressor': HistGradientBoostingRegressor(l2_regularization=2.208787572338781e-05,\n",
       "                                learning_rate=0.036087332404571744, max_iter=512,\n",
       "                                max_leaf_nodes=64, min_samples_leaf=3,\n",
       "                                n_iter_no_change=18, random_state=0,\n",
       "                                validation_fraction=None, warm_start=True)},\n",
       " 16: {'model_id': 16,\n",
       "  'rank': 2,\n",
       "  'cost': 0.35956781987811315,\n",
       "  'ensemble_weight': 0.42,\n",
       "  'data_preprocessor': <autosklearn.pipeline.components.data_preprocessing.DataPreprocessorChoice at 0x7f9eec9def70>,\n",
       "  'feature_preprocessor': <autosklearn.pipeline.components.feature_preprocessing.FeaturePreprocessorChoice at 0x7f9eec6cf190>,\n",
       "  'regressor': <autosklearn.pipeline.components.regression.RegressorChoice at 0x7f9eec6cf220>,\n",
       "  'sklearn_regressor': HistGradientBoostingRegressor(l2_regularization=0.005746611563553693,\n",
       "                                learning_rate=0.0913971028976721, max_iter=512,\n",
       "                                max_leaf_nodes=9, min_samples_leaf=2,\n",
       "                                n_iter_no_change=20, random_state=0,\n",
       "                                validation_fraction=None, warm_start=True)},\n",
       " 36: {'model_id': 36,\n",
       "  'rank': 3,\n",
       "  'cost': 0.40867999711337,\n",
       "  'ensemble_weight': 0.06,\n",
       "  'data_preprocessor': <autosklearn.pipeline.components.data_preprocessing.DataPreprocessorChoice at 0x7f9eec5c1f70>,\n",
       "  'feature_preprocessor': <autosklearn.pipeline.components.feature_preprocessing.FeaturePreprocessorChoice at 0x7f9eebff3220>,\n",
       "  'regressor': <autosklearn.pipeline.components.regression.RegressorChoice at 0x7f9eebff34c0>,\n",
       "  'sklearn_regressor': HistGradientBoostingRegressor(l2_regularization=0.004003929483399971,\n",
       "                                learning_rate=0.10832451800649785, max_iter=512,\n",
       "                                max_leaf_nodes=12, min_samples_leaf=48,\n",
       "                                n_iter_no_change=19, random_state=0,\n",
       "                                validation_fraction=None, warm_start=True)},\n",
       " 46: {'model_id': 46,\n",
       "  'rank': 4,\n",
       "  'cost': 0.5351152537598279,\n",
       "  'ensemble_weight': 0.02,\n",
       "  'data_preprocessor': <autosklearn.pipeline.components.data_preprocessing.DataPreprocessorChoice at 0x7f9eecad99d0>,\n",
       "  'feature_preprocessor': <autosklearn.pipeline.components.feature_preprocessing.FeaturePreprocessorChoice at 0x7f9eebccf2b0>,\n",
       "  'regressor': <autosklearn.pipeline.components.regression.RegressorChoice at 0x7f9eebc66730>,\n",
       "  'sklearn_regressor': HistGradientBoostingRegressor(l2_regularization=0.07568164435244588,\n",
       "                                learning_rate=0.014159876678310134, max_iter=512,\n",
       "                                max_leaf_nodes=124, min_samples_leaf=9,\n",
       "                                n_iter_no_change=17, random_state=0,\n",
       "                                validation_fraction=None, warm_start=True)},\n",
       " 62: {'model_id': 62,\n",
       "  'rank': 5,\n",
       "  'cost': 0.3631510301543326,\n",
       "  'ensemble_weight': 0.24,\n",
       "  'data_preprocessor': <autosklearn.pipeline.components.data_preprocessing.DataPreprocessorChoice at 0x7f9eec5b6c10>,\n",
       "  'feature_preprocessor': <autosklearn.pipeline.components.feature_preprocessing.FeaturePreprocessorChoice at 0x7f9eebadd910>,\n",
       "  'regressor': <autosklearn.pipeline.components.regression.RegressorChoice at 0x7f9eebadda00>,\n",
       "  'sklearn_regressor': HistGradientBoostingRegressor(l2_regularization=6.536723381440492e-05,\n",
       "                                learning_rate=0.04677844234492805, max_iter=512,\n",
       "                                max_leaf_nodes=56, min_samples_leaf=9,\n",
       "                                n_iter_no_change=12, random_state=0,\n",
       "                                validation_fraction=None, warm_start=True)},\n",
       " 64: {'model_id': 64,\n",
       "  'rank': 6,\n",
       "  'cost': 0.36853479894162156,\n",
       "  'ensemble_weight': 0.06,\n",
       "  'data_preprocessor': <autosklearn.pipeline.components.data_preprocessing.DataPreprocessorChoice at 0x7f9eec020c70>,\n",
       "  'feature_preprocessor': <autosklearn.pipeline.components.feature_preprocessing.FeaturePreprocessorChoice at 0x7f9eeb88d9a0>,\n",
       "  'regressor': <autosklearn.pipeline.components.regression.RegressorChoice at 0x7f9eeb88db80>,\n",
       "  'sklearn_regressor': HistGradientBoostingRegressor(l2_regularization=0.0005587177071976574,\n",
       "                                learning_rate=0.04259419180697029, max_iter=512,\n",
       "                                max_leaf_nodes=77, min_samples_leaf=9,\n",
       "                                n_iter_no_change=7, random_state=0,\n",
       "                                validation_fraction=None, warm_start=True)},\n",
       " 77: {'model_id': 77,\n",
       "  'rank': 7,\n",
       "  'cost': 0.5247836651310789,\n",
       "  'ensemble_weight': 0.04,\n",
       "  'data_preprocessor': <autosklearn.pipeline.components.data_preprocessing.DataPreprocessorChoice at 0x7f9eebd59d60>,\n",
       "  'feature_preprocessor': <autosklearn.pipeline.components.feature_preprocessing.FeaturePreprocessorChoice at 0x7f9eeb66d7c0>,\n",
       "  'regressor': <autosklearn.pipeline.components.regression.RegressorChoice at 0x7f9eeb66d850>,\n",
       "  'sklearn_regressor': MLPRegressor(activation='tanh', alpha=0.00014635800783180343, beta_1=0.999,\n",
       "               beta_2=0.9, hidden_layer_sizes=(32,),\n",
       "               learning_rate_init=0.0010000000000000002, max_iter=64,\n",
       "               n_iter_no_change=32, random_state=0, validation_fraction=0.0,\n",
       "               verbose=0, warm_start=True)}}"
      ]
     },
     "execution_count": 8,
     "metadata": {},
     "output_type": "execute_result"
    }
   ],
   "source": [
    "automl.show_models()"
   ]
  },
  {
   "cell_type": "code",
   "execution_count": 9,
   "metadata": {},
   "outputs": [
    {
     "data": {
      "text/html": [
       "<div>\n",
       "<style scoped>\n",
       "    .dataframe tbody tr th:only-of-type {\n",
       "        vertical-align: middle;\n",
       "    }\n",
       "\n",
       "    .dataframe tbody tr th {\n",
       "        vertical-align: top;\n",
       "    }\n",
       "\n",
       "    .dataframe thead th {\n",
       "        text-align: right;\n",
       "    }\n",
       "</style>\n",
       "<table border=\"1\" class=\"dataframe\">\n",
       "  <thead>\n",
       "    <tr style=\"text-align: right;\">\n",
       "      <th></th>\n",
       "      <th>rank</th>\n",
       "      <th>ensemble_weight</th>\n",
       "      <th>type</th>\n",
       "      <th>cost</th>\n",
       "      <th>duration</th>\n",
       "    </tr>\n",
       "    <tr>\n",
       "      <th>model_id</th>\n",
       "      <th></th>\n",
       "      <th></th>\n",
       "      <th></th>\n",
       "      <th></th>\n",
       "      <th></th>\n",
       "    </tr>\n",
       "  </thead>\n",
       "  <tbody>\n",
       "    <tr>\n",
       "      <th>16</th>\n",
       "      <td>1</td>\n",
       "      <td>0.42</td>\n",
       "      <td>gradient_boosting</td>\n",
       "      <td>0.359568</td>\n",
       "      <td>40.210180</td>\n",
       "    </tr>\n",
       "    <tr>\n",
       "      <th>62</th>\n",
       "      <td>2</td>\n",
       "      <td>0.24</td>\n",
       "      <td>gradient_boosting</td>\n",
       "      <td>0.363151</td>\n",
       "      <td>32.635219</td>\n",
       "    </tr>\n",
       "    <tr>\n",
       "      <th>10</th>\n",
       "      <td>3</td>\n",
       "      <td>0.16</td>\n",
       "      <td>gradient_boosting</td>\n",
       "      <td>0.366535</td>\n",
       "      <td>26.655734</td>\n",
       "    </tr>\n",
       "    <tr>\n",
       "      <th>64</th>\n",
       "      <td>4</td>\n",
       "      <td>0.06</td>\n",
       "      <td>gradient_boosting</td>\n",
       "      <td>0.368535</td>\n",
       "      <td>30.477064</td>\n",
       "    </tr>\n",
       "    <tr>\n",
       "      <th>36</th>\n",
       "      <td>5</td>\n",
       "      <td>0.06</td>\n",
       "      <td>gradient_boosting</td>\n",
       "      <td>0.408680</td>\n",
       "      <td>23.739277</td>\n",
       "    </tr>\n",
       "    <tr>\n",
       "      <th>77</th>\n",
       "      <td>6</td>\n",
       "      <td>0.04</td>\n",
       "      <td>mlp</td>\n",
       "      <td>0.524784</td>\n",
       "      <td>29.562296</td>\n",
       "    </tr>\n",
       "    <tr>\n",
       "      <th>46</th>\n",
       "      <td>7</td>\n",
       "      <td>0.02</td>\n",
       "      <td>gradient_boosting</td>\n",
       "      <td>0.535115</td>\n",
       "      <td>20.818397</td>\n",
       "    </tr>\n",
       "  </tbody>\n",
       "</table>\n",
       "</div>"
      ],
      "text/plain": [
       "          rank  ensemble_weight               type      cost   duration\n",
       "model_id                                                               \n",
       "16           1             0.42  gradient_boosting  0.359568  40.210180\n",
       "62           2             0.24  gradient_boosting  0.363151  32.635219\n",
       "10           3             0.16  gradient_boosting  0.366535  26.655734\n",
       "64           4             0.06  gradient_boosting  0.368535  30.477064\n",
       "36           5             0.06  gradient_boosting  0.408680  23.739277\n",
       "77           6             0.04                mlp  0.524784  29.562296\n",
       "46           7             0.02  gradient_boosting  0.535115  20.818397"
      ]
     },
     "execution_count": 9,
     "metadata": {},
     "output_type": "execute_result"
    }
   ],
   "source": [
    "automl.leaderboard()"
   ]
  },
  {
   "cell_type": "code",
   "execution_count": 10,
   "metadata": {},
   "outputs": [
    {
     "data": {
      "text/plain": [
       "'auto-sklearn results:\\n  Dataset name: 307678b7-a820-11ef-9c39-f8a2d6b93135\\n  Metric: r2\\n  Best validation score: 0.640432\\n  Number of target algorithm runs: 79\\n  Number of successful target algorithm runs: 20\\n  Number of crashed target algorithm runs: 41\\n  Number of target algorithms that exceeded the time limit: 5\\n  Number of target algorithms that exceeded the memory limit: 13\\n'"
      ]
     },
     "execution_count": 10,
     "metadata": {},
     "output_type": "execute_result"
    }
   ],
   "source": [
    "automl.sprint_statistics()"
   ]
  },
  {
   "cell_type": "code",
   "execution_count": 11,
   "metadata": {},
   "outputs": [
    {
     "data": {
      "text/plain": [
       "SimpleRegressionPipeline({'data_preprocessor:__choice__': 'feature_type', 'feature_preprocessor:__choice__': 'no_preprocessing', 'regressor:__choice__': 'gradient_boosting', 'data_preprocessor:feature_type:numerical_transformer:imputation:strategy': 'mean', 'data_preprocessor:feature_type:numerical_transformer:rescaling:__choice__': 'standardize', 'data_preprocessor:feature_type:text_transformer:text_encoding:__choice__': 'tfidf_encoding', 'data_preprocessor:feature_type:text_transformer:text_feature_reduction:n_components': 100, 'regressor:gradient_boosting:early_stop': 'train', 'regressor:gradient_boosting:l2_regularization': 0.005746611563553693, 'regressor:gradient_boosting:learning_rate': 0.0913971028976721, 'regressor:gradient_boosting:loss': 'least_squares', 'regressor:gradient_boosting:max_bins': 255, 'regressor:gradient_boosting:max_depth': 'None', 'regressor:gradient_boosting:max_leaf_nodes': 9, 'regressor:gradient_boosting:min_samples_leaf': 2, 'regressor:gradient_boosting:scoring': 'loss', 'regressor:gradient_boosting:tol': 1e-07, 'data_preprocessor:feature_type:text_transformer:text_encoding:tfidf_encoding:analyzer': 'char', 'data_preprocessor:feature_type:text_transformer:text_encoding:tfidf_encoding:binary': 'False', 'data_preprocessor:feature_type:text_transformer:text_encoding:tfidf_encoding:max_df': 1.0, 'data_preprocessor:feature_type:text_transformer:text_encoding:tfidf_encoding:min_df': 0.0, 'data_preprocessor:feature_type:text_transformer:text_encoding:tfidf_encoding:norm': 'l2', 'data_preprocessor:feature_type:text_transformer:text_encoding:tfidf_encoding:per_column': False, 'data_preprocessor:feature_type:text_transformer:text_encoding:tfidf_encoding:sublinear_tf': 'False', 'regressor:gradient_boosting:n_iter_no_change': 20, 'data_preprocessor:feature_type:text_transformer:text_encoding:tfidf_encoding:ngram_range_char': 4},\n",
       "dataset_properties={\n",
       "  'task': 4,\n",
       "  'sparse': False,\n",
       "  'multioutput': False,\n",
       "  'target_type': 'regression',\n",
       "  'signed': False})"
      ]
     },
     "execution_count": 11,
     "metadata": {},
     "output_type": "execute_result"
    }
   ],
   "source": [
    "best_model = automl.get_models_with_weights()[0][1]\n",
    "\n",
    "best_model"
   ]
  },
  {
   "cell_type": "code",
   "execution_count": 12,
   "metadata": {},
   "outputs": [
    {
     "data": {
      "text/plain": [
       "['gradient_boost_model.joblib']"
      ]
     },
     "execution_count": 12,
     "metadata": {},
     "output_type": "execute_result"
    }
   ],
   "source": [
    "dump(best_model, \"gradient_boost_model.joblib\")"
   ]
  }
 ],
 "metadata": {
  "kernelspec": {
   "display_name": "myenv",
   "language": "python",
   "name": "python3"
  },
  "language_info": {
   "codemirror_mode": {
    "name": "ipython",
    "version": 3
   },
   "file_extension": ".py",
   "mimetype": "text/x-python",
   "name": "python",
   "nbconvert_exporter": "python",
   "pygments_lexer": "ipython3",
   "version": "3.9.18"
  }
 },
 "nbformat": 4,
 "nbformat_minor": 2
}
