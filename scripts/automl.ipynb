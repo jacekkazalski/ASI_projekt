{
 "cells": [
  {
   "cell_type": "code",
   "execution_count": 10,
   "metadata": {},
   "outputs": [],
   "source": [
    "import pandas as pd\n",
    "from sklearn.model_selection import train_test_split\n",
    "from sklearn.metrics import mean_absolute_error, r2_score\n",
    "from sklearn.preprocessing import LabelEncoder\n",
    "from autosklearn.regression import AutoSklearnRegressor"
   ]
  },
  {
   "cell_type": "code",
   "execution_count": 11,
   "metadata": {},
   "outputs": [],
   "source": [
    "data = pd.read_csv('../data/data_cleaned.csv')"
   ]
  },
  {
   "cell_type": "code",
   "execution_count": 12,
   "metadata": {},
   "outputs": [
    {
     "data": {
      "text/plain": [
       "Unnamed: 0           int64\n",
       "brand               object\n",
       "model               object\n",
       "price_in_pln       float64\n",
       "mileage            float64\n",
       "gearbox             object\n",
       "engine_capacity    float64\n",
       "fuel_type           object\n",
       "city                object\n",
       "voivodeship         object\n",
       "year                 int64\n",
       "dtype: object"
      ]
     },
     "execution_count": 12,
     "metadata": {},
     "output_type": "execute_result"
    }
   ],
   "source": [
    "data.dtypes"
   ]
  },
  {
   "cell_type": "code",
   "execution_count": 13,
   "metadata": {},
   "outputs": [],
   "source": [
    "# Dropping text columns\n",
    "data.drop(columns=['model', 'city'], inplace=True)"
   ]
  },
  {
   "cell_type": "code",
   "execution_count": 14,
   "metadata": {},
   "outputs": [],
   "source": [
    "x = data.drop(columns=[\"price_in_pln\"])\n",
    "y = data[\"price_in_pln\"]\n",
    "\n",
    "x_train, x_test, y_train, y_test = train_test_split(x, y, test_size=0.2, random_state=0)"
   ]
  },
  {
   "cell_type": "code",
   "execution_count": null,
   "metadata": {},
   "outputs": [
    {
     "name": "stderr",
     "output_type": "stream",
     "text": [
      "/home/admin/anaconda3/envs/myenv/lib/python3.9/site-packages/autosklearn/data/feature_validator.py:318: UserWarning: Input Column brand has generic type object. Autosklearn will treat this column as string. Please ensure that this setting is suitable for your task.\n",
      "  warnings.warn(\n",
      "/home/admin/anaconda3/envs/myenv/lib/python3.9/site-packages/autosklearn/data/feature_validator.py:318: UserWarning: Input Column gearbox has generic type object. Autosklearn will treat this column as string. Please ensure that this setting is suitable for your task.\n",
      "  warnings.warn(\n",
      "/home/admin/anaconda3/envs/myenv/lib/python3.9/site-packages/autosklearn/data/feature_validator.py:318: UserWarning: Input Column fuel_type has generic type object. Autosklearn will treat this column as string. Please ensure that this setting is suitable for your task.\n",
      "  warnings.warn(\n",
      "/home/admin/anaconda3/envs/myenv/lib/python3.9/site-packages/autosklearn/data/feature_validator.py:318: UserWarning: Input Column voivodeship has generic type object. Autosklearn will treat this column as string. Please ensure that this setting is suitable for your task.\n",
      "  warnings.warn(\n"
     ]
    }
   ],
   "source": [
    "\n",
    "\n",
    "automl = AutoSklearnRegressor(\n",
    "    time_left_for_this_task=1200,\n",
    "    per_run_time_limit=120,\n",
    "    seed=0,\n",
    "    memory_limit=4096\n",
    ")\n",
    "automl.fit(x_train, y_train)\n",
    "\n",
    "y_pred = automl.predict(x_test)\n",
    "\n",
    "print('MAE: ', mean_absolute_error(y_test, y_pred))\n",
    "print('R2: ', r2_score(y_test, y_pred))"
   ]
  },
  {
   "cell_type": "code",
   "execution_count": null,
   "metadata": {},
   "outputs": [
    {
     "data": {
      "text/plain": [
       "{10: {'model_id': 10,\n",
       "  'rank': 1,\n",
       "  'cost': 0.3665352973733311,\n",
       "  'ensemble_weight': 0.26,\n",
       "  'data_preprocessor': <autosklearn.pipeline.components.data_preprocessing.DataPreprocessorChoice at 0x7fd471c48520>,\n",
       "  'feature_preprocessor': <autosklearn.pipeline.components.feature_preprocessing.FeaturePreprocessorChoice at 0x7fd471c72f70>,\n",
       "  'regressor': <autosklearn.pipeline.components.regression.RegressorChoice at 0x7fd471c72e50>,\n",
       "  'sklearn_regressor': HistGradientBoostingRegressor(l2_regularization=2.208787572338781e-05,\n",
       "                                learning_rate=0.036087332404571744, max_iter=512,\n",
       "                                max_leaf_nodes=64, min_samples_leaf=3,\n",
       "                                n_iter_no_change=18, random_state=0,\n",
       "                                validation_fraction=None, warm_start=True)},\n",
       " 13: {'model_id': 13,\n",
       "  'rank': 2,\n",
       "  'cost': 0.36831033858815054,\n",
       "  'ensemble_weight': 0.12,\n",
       "  'data_preprocessor': <autosklearn.pipeline.components.data_preprocessing.DataPreprocessorChoice at 0x7fd471c598e0>,\n",
       "  'feature_preprocessor': <autosklearn.pipeline.components.feature_preprocessing.FeaturePreprocessorChoice at 0x7fd47140b3d0>,\n",
       "  'regressor': <autosklearn.pipeline.components.regression.RegressorChoice at 0x7fd47140b4c0>,\n",
       "  'sklearn_regressor': HistGradientBoostingRegressor(l2_regularization=6.536723381440492e-05,\n",
       "                                learning_rate=0.03940103065495631, max_iter=512,\n",
       "                                max_leaf_nodes=77, min_samples_leaf=9,\n",
       "                                n_iter_no_change=7, random_state=0,\n",
       "                                validation_fraction=None, warm_start=True)},\n",
       " 16: {'model_id': 16,\n",
       "  'rank': 3,\n",
       "  'cost': 0.35579233073320293,\n",
       "  'ensemble_weight': 0.62,\n",
       "  'data_preprocessor': <autosklearn.pipeline.components.data_preprocessing.DataPreprocessorChoice at 0x7fd471c48040>,\n",
       "  'feature_preprocessor': <autosklearn.pipeline.components.feature_preprocessing.FeaturePreprocessorChoice at 0x7fd47121dd60>,\n",
       "  'regressor': <autosklearn.pipeline.components.regression.RegressorChoice at 0x7fd47121de20>,\n",
       "  'sklearn_regressor': HistGradientBoostingRegressor(l2_regularization=0.005746611563553693,\n",
       "                                learning_rate=0.0913971028976721, max_iter=512,\n",
       "                                max_leaf_nodes=9, min_samples_leaf=2,\n",
       "                                n_iter_no_change=20, random_state=0,\n",
       "                                validation_fraction=None, warm_start=True)}}"
      ]
     },
     "execution_count": 7,
     "metadata": {},
     "output_type": "execute_result"
    }
   ],
   "source": [
    "automl.show_models()"
   ]
  },
  {
   "cell_type": "code",
   "execution_count": null,
   "metadata": {},
   "outputs": [
    {
     "data": {
      "text/html": [
       "<div>\n",
       "<style scoped>\n",
       "    .dataframe tbody tr th:only-of-type {\n",
       "        vertical-align: middle;\n",
       "    }\n",
       "\n",
       "    .dataframe tbody tr th {\n",
       "        vertical-align: top;\n",
       "    }\n",
       "\n",
       "    .dataframe thead th {\n",
       "        text-align: right;\n",
       "    }\n",
       "</style>\n",
       "<table border=\"1\" class=\"dataframe\">\n",
       "  <thead>\n",
       "    <tr style=\"text-align: right;\">\n",
       "      <th></th>\n",
       "      <th>rank</th>\n",
       "      <th>ensemble_weight</th>\n",
       "      <th>type</th>\n",
       "      <th>cost</th>\n",
       "      <th>duration</th>\n",
       "    </tr>\n",
       "    <tr>\n",
       "      <th>model_id</th>\n",
       "      <th></th>\n",
       "      <th></th>\n",
       "      <th></th>\n",
       "      <th></th>\n",
       "      <th></th>\n",
       "    </tr>\n",
       "  </thead>\n",
       "  <tbody>\n",
       "    <tr>\n",
       "      <th>16</th>\n",
       "      <td>1</td>\n",
       "      <td>0.62</td>\n",
       "      <td>gradient_boosting</td>\n",
       "      <td>0.355792</td>\n",
       "      <td>42.207773</td>\n",
       "    </tr>\n",
       "    <tr>\n",
       "      <th>10</th>\n",
       "      <td>2</td>\n",
       "      <td>0.26</td>\n",
       "      <td>gradient_boosting</td>\n",
       "      <td>0.366535</td>\n",
       "      <td>27.467564</td>\n",
       "    </tr>\n",
       "    <tr>\n",
       "      <th>13</th>\n",
       "      <td>3</td>\n",
       "      <td>0.12</td>\n",
       "      <td>gradient_boosting</td>\n",
       "      <td>0.368310</td>\n",
       "      <td>59.518171</td>\n",
       "    </tr>\n",
       "  </tbody>\n",
       "</table>\n",
       "</div>"
      ],
      "text/plain": [
       "          rank  ensemble_weight               type      cost   duration\n",
       "model_id                                                               \n",
       "16           1             0.62  gradient_boosting  0.355792  42.207773\n",
       "10           2             0.26  gradient_boosting  0.366535  27.467564\n",
       "13           3             0.12  gradient_boosting  0.368310  59.518171"
      ]
     },
     "execution_count": 8,
     "metadata": {},
     "output_type": "execute_result"
    }
   ],
   "source": [
    "automl.leaderboard()"
   ]
  },
  {
   "cell_type": "code",
   "execution_count": null,
   "metadata": {},
   "outputs": [
    {
     "data": {
      "text/plain": [
       "'auto-sklearn results:\\n  Dataset name: 1044869f-a729-11ef-8d01-f8a2d6b93135\\n  Metric: r2\\n  Best validation score: 0.644208\\n  Number of target algorithm runs: 17\\n  Number of successful target algorithm runs: 3\\n  Number of crashed target algorithm runs: 5\\n  Number of target algorithms that exceeded the time limit: 2\\n  Number of target algorithms that exceeded the memory limit: 7\\n'"
      ]
     },
     "execution_count": 9,
     "metadata": {},
     "output_type": "execute_result"
    }
   ],
   "source": [
    "automl.sprint_statistics()"
   ]
  }
 ],
 "metadata": {
  "kernelspec": {
   "display_name": "myenv",
   "language": "python",
   "name": "python3"
  },
  "language_info": {
   "codemirror_mode": {
    "name": "ipython",
    "version": 3
   },
   "file_extension": ".py",
   "mimetype": "text/x-python",
   "name": "python",
   "nbconvert_exporter": "python",
   "pygments_lexer": "ipython3",
   "version": "3.9.20"
  }
 },
 "nbformat": 4,
 "nbformat_minor": 2
}
