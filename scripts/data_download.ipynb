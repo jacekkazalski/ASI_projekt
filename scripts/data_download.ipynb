{
 "cells": [
  {
   "cell_type": "code",
   "execution_count": 12,
   "metadata": {},
   "outputs": [],
   "source": [
    "import kagglehub\n",
    "import shutil\n",
    "import os\n",
    "import pandas as pd"
   ]
  },
  {
   "cell_type": "code",
   "execution_count": 13,
   "metadata": {},
   "outputs": [
    {
     "data": {
      "text/plain": [
       "<function kagglehub.datasets.dataset_download(handle: str, path: Optional[str] = None, *, force_download: Optional[bool] = False) -> str>"
      ]
     },
     "execution_count": 13,
     "metadata": {},
     "output_type": "execute_result"
    }
   ],
   "source": [
    "kagglehub.dataset_download"
   ]
  },
  {
   "cell_type": "code",
   "execution_count": 14,
   "metadata": {},
   "outputs": [
    {
     "name": "stdout",
     "output_type": "stream",
     "text": [
      "Warning: Looks like you're using an outdated `kagglehub` version, please consider updating (latest version: 0.3.4)\n",
      "Dataset downloaded:  /home/admin/.cache/kagglehub/datasets/wspirat/poland-used-cars-offers/versions/1\n",
      "Download directory is empty\n",
      "Path to dataset files: ../data\n",
      "Dataset files:  []\n"
     ]
    }
   ],
   "source": [
    "# Downloading dataset from kaggle and moving it to project dir\n",
    "\n",
    "path = kagglehub.dataset_download(\"wspirat/poland-used-cars-offers\")\n",
    "print(\"Dataset downloaded: \", path)\n",
    "project_dir = \"../data\"\n",
    "if not os.path.exists(path):\n",
    "    print(\"Error: Download path does not exist.\")\n",
    "    exit(1)\n",
    "all_files = []\n",
    "for root, dirs, files in os.walk(path):\n",
    "    for file in files:\n",
    "        all_files.append(os.path.join(root, file))\n",
    "\n",
    "if not all_files:\n",
    "    print(\"Download directory is empty\")\n",
    "    exit(1)\n",
    "os.makedirs(project_dir, exist_ok=True)\n",
    "\n",
    "dataset_paths = []\n",
    "for file_path in all_files:\n",
    "    destination_file = os.path.join(project_dir, os.path.basename(file_path))\n",
    "    try:\n",
    "        shutil.move(file_path, destination_file)\n",
    "        dataset_paths.append(destination_file)\n",
    "        print(f'Moved: {file_path} -> {destination_file}')\n",
    "    except Exception as e:\n",
    "        print(f\"Error moving {file_path}: {e} \")\n",
    "\n",
    "\n",
    "print(\"Path to dataset files:\", project_dir)\n",
    "print(\"Dataset files: \", dataset_paths)"
   ]
  },
  {
   "cell_type": "code",
   "execution_count": 15,
   "metadata": {},
   "outputs": [],
   "source": [
    "data = pd.read_csv(f'../data/data.csv')"
   ]
  },
  {
   "cell_type": "code",
   "execution_count": 16,
   "metadata": {},
   "outputs": [
    {
     "name": "stdout",
     "output_type": "stream",
     "text": [
      "<class 'pandas.core.frame.DataFrame'>\n",
      "RangeIndex: 91523 entries, 0 to 91522\n",
      "Data columns (total 10 columns):\n",
      " #   Column           Non-Null Count  Dtype  \n",
      "---  ------           --------------  -----  \n",
      " 0   brand            91523 non-null  object \n",
      " 1   model            91523 non-null  object \n",
      " 2   price_in_pln     91523 non-null  float64\n",
      " 3   mileage          91523 non-null  object \n",
      " 4   gearbox          91523 non-null  object \n",
      " 5   engine_capacity  91523 non-null  object \n",
      " 6   fuel_type        91523 non-null  object \n",
      " 7   city             91523 non-null  object \n",
      " 8   voivodeship      91523 non-null  object \n",
      " 9   year             91523 non-null  object \n",
      "dtypes: float64(1), object(9)\n",
      "memory usage: 7.0+ MB\n"
     ]
    },
    {
     "data": {
      "text/html": [
       "<div>\n",
       "<style scoped>\n",
       "    .dataframe tbody tr th:only-of-type {\n",
       "        vertical-align: middle;\n",
       "    }\n",
       "\n",
       "    .dataframe tbody tr th {\n",
       "        vertical-align: top;\n",
       "    }\n",
       "\n",
       "    .dataframe thead th {\n",
       "        text-align: right;\n",
       "    }\n",
       "</style>\n",
       "<table border=\"1\" class=\"dataframe\">\n",
       "  <thead>\n",
       "    <tr style=\"text-align: right;\">\n",
       "      <th></th>\n",
       "      <th>brand</th>\n",
       "      <th>model</th>\n",
       "      <th>price_in_pln</th>\n",
       "      <th>mileage</th>\n",
       "      <th>gearbox</th>\n",
       "      <th>engine_capacity</th>\n",
       "      <th>fuel_type</th>\n",
       "      <th>city</th>\n",
       "      <th>voivodeship</th>\n",
       "      <th>year</th>\n",
       "    </tr>\n",
       "  </thead>\n",
       "  <tbody>\n",
       "    <tr>\n",
       "      <th>0</th>\n",
       "      <td>alfa-romeo</td>\n",
       "      <td>Alfa Romeo Spider 2.0-16 TSpark</td>\n",
       "      <td>14700.0</td>\n",
       "      <td>133 760 km</td>\n",
       "      <td>manual</td>\n",
       "      <td>1 970 cm3</td>\n",
       "      <td>Benzyna</td>\n",
       "      <td>Łask</td>\n",
       "      <td>Łódzkie</td>\n",
       "      <td>1998</td>\n",
       "    </tr>\n",
       "    <tr>\n",
       "      <th>1</th>\n",
       "      <td>alfa-romeo</td>\n",
       "      <td>Alfa Romeo GTV 2.0 16v TSpark</td>\n",
       "      <td>14000.0</td>\n",
       "      <td>133 760 km</td>\n",
       "      <td>manual</td>\n",
       "      <td>1 970 cm3</td>\n",
       "      <td>Benzyna</td>\n",
       "      <td>Mława</td>\n",
       "      <td>Mazowieckie</td>\n",
       "      <td>1998</td>\n",
       "    </tr>\n",
       "    <tr>\n",
       "      <th>2</th>\n",
       "      <td>alfa-romeo</td>\n",
       "      <td>Alfa Romeo 164 2.0 TSpark Super</td>\n",
       "      <td>4500.0</td>\n",
       "      <td>227 000 km</td>\n",
       "      <td>manual</td>\n",
       "      <td>1 970 cm3</td>\n",
       "      <td>Benzyna</td>\n",
       "      <td>Chełmża</td>\n",
       "      <td>Kujawsko-pomorskie</td>\n",
       "      <td>1996</td>\n",
       "    </tr>\n",
       "    <tr>\n",
       "      <th>3</th>\n",
       "      <td>alfa-romeo</td>\n",
       "      <td>Alfa Romeo Spider 2.0 TSpark</td>\n",
       "      <td>17100.0</td>\n",
       "      <td>227 000 km</td>\n",
       "      <td>manual</td>\n",
       "      <td>1 970 cm3</td>\n",
       "      <td>Benzyna</td>\n",
       "      <td>Jasło</td>\n",
       "      <td>Podkarpackie</td>\n",
       "      <td>1996</td>\n",
       "    </tr>\n",
       "    <tr>\n",
       "      <th>4</th>\n",
       "      <td>alfa-romeo</td>\n",
       "      <td>Alfa Romeo 156 1.6 TSpark 16v</td>\n",
       "      <td>3900.0</td>\n",
       "      <td>239 000 km</td>\n",
       "      <td>manual</td>\n",
       "      <td>1 995 cm3</td>\n",
       "      <td>Benzyna+LPG</td>\n",
       "      <td>Pabianice</td>\n",
       "      <td>Łódzkie</td>\n",
       "      <td>1995</td>\n",
       "    </tr>\n",
       "  </tbody>\n",
       "</table>\n",
       "</div>"
      ],
      "text/plain": [
       "        brand                            model  price_in_pln     mileage  \\\n",
       "0  alfa-romeo  Alfa Romeo Spider 2.0-16 TSpark       14700.0  133 760 km   \n",
       "1  alfa-romeo    Alfa Romeo GTV 2.0 16v TSpark       14000.0  133 760 km   \n",
       "2  alfa-romeo  Alfa Romeo 164 2.0 TSpark Super        4500.0  227 000 km   \n",
       "3  alfa-romeo     Alfa Romeo Spider 2.0 TSpark       17100.0  227 000 km   \n",
       "4  alfa-romeo    Alfa Romeo 156 1.6 TSpark 16v        3900.0  239 000 km   \n",
       "\n",
       "  gearbox engine_capacity    fuel_type       city         voivodeship  year  \n",
       "0  manual       1 970 cm3      Benzyna       Łask             Łódzkie  1998  \n",
       "1  manual       1 970 cm3      Benzyna      Mława         Mazowieckie  1998  \n",
       "2  manual       1 970 cm3      Benzyna    Chełmża  Kujawsko-pomorskie  1996  \n",
       "3  manual       1 970 cm3      Benzyna      Jasło        Podkarpackie  1996  \n",
       "4  manual       1 995 cm3  Benzyna+LPG  Pabianice             Łódzkie  1995  "
      ]
     },
     "execution_count": 16,
     "metadata": {},
     "output_type": "execute_result"
    }
   ],
   "source": [
    "data.info()\n",
    "data.head()"
   ]
  },
  {
   "cell_type": "code",
   "execution_count": 17,
   "metadata": {},
   "outputs": [
    {
     "name": "stdout",
     "output_type": "stream",
     "text": [
      "<class 'pandas.core.frame.DataFrame'>\n",
      "RangeIndex: 91523 entries, 0 to 91522\n",
      "Data columns (total 10 columns):\n",
      " #   Column           Non-Null Count  Dtype  \n",
      "---  ------           --------------  -----  \n",
      " 0   brand            91523 non-null  object \n",
      " 1   model            91523 non-null  object \n",
      " 2   price_in_pln     91523 non-null  float64\n",
      " 3   mileage          91523 non-null  object \n",
      " 4   gearbox          91523 non-null  object \n",
      " 5   engine_capacity  91523 non-null  object \n",
      " 6   fuel_type        91523 non-null  object \n",
      " 7   city             91523 non-null  object \n",
      " 8   voivodeship      91523 non-null  object \n",
      " 9   year             91523 non-null  object \n",
      "dtypes: float64(1), object(9)\n",
      "memory usage: 7.0+ MB\n"
     ]
    }
   ],
   "source": [
    "data.info()"
   ]
  }
 ],
 "metadata": {
  "kernelspec": {
   "display_name": "myenv",
   "language": "python",
   "name": "python3"
  },
  "language_info": {
   "codemirror_mode": {
    "name": "ipython",
    "version": 3
   },
   "file_extension": ".py",
   "mimetype": "text/x-python",
   "name": "python",
   "nbconvert_exporter": "python",
   "pygments_lexer": "ipython3",
   "version": "3.9.20"
  }
 },
 "nbformat": 4,
 "nbformat_minor": 2
}
