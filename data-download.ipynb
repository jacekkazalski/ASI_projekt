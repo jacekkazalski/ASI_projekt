{
 "cells": [
  {
   "cell_type": "code",
   "execution_count": 2,
   "metadata": {},
   "outputs": [
    {
     "name": "stderr",
     "output_type": "stream",
     "text": [
      "c:\\Users\\Admin\\Desktop\\studia\\asi\\projekt\\s22393_CarPricePrediction\\.venv\\Lib\\site-packages\\tqdm\\auto.py:21: TqdmWarning: IProgress not found. Please update jupyter and ipywidgets. See https://ipywidgets.readthedocs.io/en/stable/user_install.html\n",
      "  from .autonotebook import tqdm as notebook_tqdm\n"
     ]
    }
   ],
   "source": [
    "import kagglehub\n",
    "import shutil\n",
    "import os\n",
    "import pandas as pd\n",
    "from sklearn.model_selection import train_test_split"
   ]
  },
  {
   "cell_type": "code",
   "execution_count": 3,
   "metadata": {},
   "outputs": [
    {
     "name": "stdout",
     "output_type": "stream",
     "text": [
      "Downloading from https://www.kaggle.com/api/v1/datasets/download/wspirat/poland-used-cars-offers?dataset_version_number=1...\n"
     ]
    },
    {
     "name": "stderr",
     "output_type": "stream",
     "text": [
      "100%|██████████| 1.27M/1.27M [00:00<00:00, 1.82MB/s]"
     ]
    },
    {
     "name": "stdout",
     "output_type": "stream",
     "text": [
      "Extracting files...\n",
      "Path to dataset files: data data.csv\n"
     ]
    },
    {
     "name": "stderr",
     "output_type": "stream",
     "text": [
      "\n"
     ]
    }
   ],
   "source": [
    "# Downloading dataset from kaggle and moving it to project dir\n",
    "\n",
    "path = kagglehub.dataset_download(\"wspirat/poland-used-cars-offers\")\n",
    "project_dir = \"data\"\n",
    "os.makedirs(project_dir, exist_ok=True)\n",
    "\n",
    "dataset_paths = []\n",
    "for file in os.listdir(path):\n",
    "    file_name = os.path.join(path, file)\n",
    "    shutil.move(file_name, project_dir)\n",
    "    dataset_paths.append(os.path.join(project_dir, file))\n",
    "\n",
    "\n",
    "print(\"Path to dataset files:\", project_dir, file)"
   ]
  },
  {
   "cell_type": "code",
   "execution_count": 4,
   "metadata": {},
   "outputs": [],
   "source": [
    "data = pd.read_csv(f'data/{file}')"
   ]
  },
  {
   "cell_type": "code",
   "execution_count": 10,
   "metadata": {},
   "outputs": [
    {
     "name": "stdout",
     "output_type": "stream",
     "text": [
      "<class 'pandas.core.frame.DataFrame'>\n",
      "RangeIndex: 91523 entries, 0 to 91522\n",
      "Data columns (total 10 columns):\n",
      " #   Column           Non-Null Count  Dtype  \n",
      "---  ------           --------------  -----  \n",
      " 0   brand            91523 non-null  object \n",
      " 1   model            91523 non-null  object \n",
      " 2   price_in_pln     91523 non-null  float64\n",
      " 3   mileage          91523 non-null  object \n",
      " 4   gearbox          91523 non-null  object \n",
      " 5   engine_capacity  91523 non-null  object \n",
      " 6   fuel_type        91523 non-null  object \n",
      " 7   city             91523 non-null  object \n",
      " 8   voivodeship      91523 non-null  object \n",
      " 9   year             91523 non-null  object \n",
      "dtypes: float64(1), object(9)\n",
      "memory usage: 7.0+ MB\n"
     ]
    },
    {
     "data": {
      "text/html": [
       "<div>\n",
       "<style scoped>\n",
       "    .dataframe tbody tr th:only-of-type {\n",
       "        vertical-align: middle;\n",
       "    }\n",
       "\n",
       "    .dataframe tbody tr th {\n",
       "        vertical-align: top;\n",
       "    }\n",
       "\n",
       "    .dataframe thead th {\n",
       "        text-align: right;\n",
       "    }\n",
       "</style>\n",
       "<table border=\"1\" class=\"dataframe\">\n",
       "  <thead>\n",
       "    <tr style=\"text-align: right;\">\n",
       "      <th></th>\n",
       "      <th>brand</th>\n",
       "      <th>model</th>\n",
       "      <th>price_in_pln</th>\n",
       "      <th>mileage</th>\n",
       "      <th>gearbox</th>\n",
       "      <th>engine_capacity</th>\n",
       "      <th>fuel_type</th>\n",
       "      <th>city</th>\n",
       "      <th>voivodeship</th>\n",
       "      <th>year</th>\n",
       "    </tr>\n",
       "  </thead>\n",
       "  <tbody>\n",
       "    <tr>\n",
       "      <th>0</th>\n",
       "      <td>alfa-romeo</td>\n",
       "      <td>Alfa Romeo Spider 2.0-16 TSpark</td>\n",
       "      <td>14700.0</td>\n",
       "      <td>133 760 km</td>\n",
       "      <td>manual</td>\n",
       "      <td>1 970 cm3</td>\n",
       "      <td>Benzyna</td>\n",
       "      <td>Łask</td>\n",
       "      <td>Łódzkie</td>\n",
       "      <td>1998</td>\n",
       "    </tr>\n",
       "    <tr>\n",
       "      <th>1</th>\n",
       "      <td>alfa-romeo</td>\n",
       "      <td>Alfa Romeo GTV 2.0 16v TSpark</td>\n",
       "      <td>14000.0</td>\n",
       "      <td>133 760 km</td>\n",
       "      <td>manual</td>\n",
       "      <td>1 970 cm3</td>\n",
       "      <td>Benzyna</td>\n",
       "      <td>Mława</td>\n",
       "      <td>Mazowieckie</td>\n",
       "      <td>1998</td>\n",
       "    </tr>\n",
       "    <tr>\n",
       "      <th>2</th>\n",
       "      <td>alfa-romeo</td>\n",
       "      <td>Alfa Romeo 164 2.0 TSpark Super</td>\n",
       "      <td>4500.0</td>\n",
       "      <td>227 000 km</td>\n",
       "      <td>manual</td>\n",
       "      <td>1 970 cm3</td>\n",
       "      <td>Benzyna</td>\n",
       "      <td>Chełmża</td>\n",
       "      <td>Kujawsko-pomorskie</td>\n",
       "      <td>1996</td>\n",
       "    </tr>\n",
       "    <tr>\n",
       "      <th>3</th>\n",
       "      <td>alfa-romeo</td>\n",
       "      <td>Alfa Romeo Spider 2.0 TSpark</td>\n",
       "      <td>17100.0</td>\n",
       "      <td>227 000 km</td>\n",
       "      <td>manual</td>\n",
       "      <td>1 970 cm3</td>\n",
       "      <td>Benzyna</td>\n",
       "      <td>Jasło</td>\n",
       "      <td>Podkarpackie</td>\n",
       "      <td>1996</td>\n",
       "    </tr>\n",
       "    <tr>\n",
       "      <th>4</th>\n",
       "      <td>alfa-romeo</td>\n",
       "      <td>Alfa Romeo 156 1.6 TSpark 16v</td>\n",
       "      <td>3900.0</td>\n",
       "      <td>239 000 km</td>\n",
       "      <td>manual</td>\n",
       "      <td>1 995 cm3</td>\n",
       "      <td>Benzyna+LPG</td>\n",
       "      <td>Pabianice</td>\n",
       "      <td>Łódzkie</td>\n",
       "      <td>1995</td>\n",
       "    </tr>\n",
       "  </tbody>\n",
       "</table>\n",
       "</div>"
      ],
      "text/plain": [
       "        brand                            model  price_in_pln     mileage  \\\n",
       "0  alfa-romeo  Alfa Romeo Spider 2.0-16 TSpark       14700.0  133 760 km   \n",
       "1  alfa-romeo    Alfa Romeo GTV 2.0 16v TSpark       14000.0  133 760 km   \n",
       "2  alfa-romeo  Alfa Romeo 164 2.0 TSpark Super        4500.0  227 000 km   \n",
       "3  alfa-romeo     Alfa Romeo Spider 2.0 TSpark       17100.0  227 000 km   \n",
       "4  alfa-romeo    Alfa Romeo 156 1.6 TSpark 16v        3900.0  239 000 km   \n",
       "\n",
       "  gearbox engine_capacity    fuel_type       city         voivodeship  year  \n",
       "0  manual       1 970 cm3      Benzyna       Łask             Łódzkie  1998  \n",
       "1  manual       1 970 cm3      Benzyna      Mława         Mazowieckie  1998  \n",
       "2  manual       1 970 cm3      Benzyna    Chełmża  Kujawsko-pomorskie  1996  \n",
       "3  manual       1 970 cm3      Benzyna      Jasło        Podkarpackie  1996  \n",
       "4  manual       1 995 cm3  Benzyna+LPG  Pabianice             Łódzkie  1995  "
      ]
     },
     "execution_count": 10,
     "metadata": {},
     "output_type": "execute_result"
    }
   ],
   "source": [
    "data.info()\n",
    "data.head()"
   ]
  },
  {
   "cell_type": "code",
   "execution_count": 6,
   "metadata": {},
   "outputs": [
    {
     "name": "stdout",
     "output_type": "stream",
     "text": [
      "<class 'pandas.core.frame.DataFrame'>\n",
      "RangeIndex: 91523 entries, 0 to 91522\n",
      "Data columns (total 10 columns):\n",
      " #   Column           Non-Null Count  Dtype  \n",
      "---  ------           --------------  -----  \n",
      " 0   brand            91523 non-null  object \n",
      " 1   model            91523 non-null  object \n",
      " 2   price_in_pln     91523 non-null  float64\n",
      " 3   mileage          91523 non-null  object \n",
      " 4   gearbox          91523 non-null  object \n",
      " 5   engine_capacity  91523 non-null  object \n",
      " 6   fuel_type        91523 non-null  object \n",
      " 7   city             91523 non-null  object \n",
      " 8   voivodeship      91523 non-null  object \n",
      " 9   year             91523 non-null  object \n",
      "dtypes: float64(1), object(9)\n",
      "memory usage: 7.0+ MB\n"
     ]
    }
   ],
   "source": [
    "data.info()"
   ]
  },
  {
   "cell_type": "code",
   "execution_count": 7,
   "metadata": {},
   "outputs": [],
   "source": [
    "train_data, test_data = train_test_split(data, test_size=0.3, random_state=10)\n",
    "train_data.to_csv('data/train_data.csv')\n",
    "test_data.to_csv('data/test_data.csv')"
   ]
  },
  {
   "cell_type": "code",
   "execution_count": 8,
   "metadata": {},
   "outputs": [
    {
     "name": "stdout",
     "output_type": "stream",
     "text": [
      "<class 'pandas.core.frame.DataFrame'>\n",
      "Index: 64066 entries, 73505 to 83209\n",
      "Data columns (total 10 columns):\n",
      " #   Column           Non-Null Count  Dtype  \n",
      "---  ------           --------------  -----  \n",
      " 0   brand            64066 non-null  object \n",
      " 1   model            64066 non-null  object \n",
      " 2   price_in_pln     64066 non-null  float64\n",
      " 3   mileage          64066 non-null  object \n",
      " 4   gearbox          64066 non-null  object \n",
      " 5   engine_capacity  64066 non-null  object \n",
      " 6   fuel_type        64066 non-null  object \n",
      " 7   city             64066 non-null  object \n",
      " 8   voivodeship      64066 non-null  object \n",
      " 9   year             64066 non-null  object \n",
      "dtypes: float64(1), object(9)\n",
      "memory usage: 5.4+ MB\n"
     ]
    }
   ],
   "source": [
    "train_data.info()"
   ]
  },
  {
   "cell_type": "code",
   "execution_count": 9,
   "metadata": {},
   "outputs": [
    {
     "name": "stdout",
     "output_type": "stream",
     "text": [
      "<class 'pandas.core.frame.DataFrame'>\n",
      "Index: 27457 entries, 81392 to 73220\n",
      "Data columns (total 10 columns):\n",
      " #   Column           Non-Null Count  Dtype  \n",
      "---  ------           --------------  -----  \n",
      " 0   brand            27457 non-null  object \n",
      " 1   model            27457 non-null  object \n",
      " 2   price_in_pln     27457 non-null  float64\n",
      " 3   mileage          27457 non-null  object \n",
      " 4   gearbox          27457 non-null  object \n",
      " 5   engine_capacity  27457 non-null  object \n",
      " 6   fuel_type        27457 non-null  object \n",
      " 7   city             27457 non-null  object \n",
      " 8   voivodeship      27457 non-null  object \n",
      " 9   year             27457 non-null  object \n",
      "dtypes: float64(1), object(9)\n",
      "memory usage: 2.3+ MB\n"
     ]
    }
   ],
   "source": [
    "test_data.info()"
   ]
  }
 ],
 "metadata": {
  "kernelspec": {
   "display_name": ".venv",
   "language": "python",
   "name": "python3"
  },
  "language_info": {
   "codemirror_mode": {
    "name": "ipython",
    "version": 3
   },
   "file_extension": ".py",
   "mimetype": "text/x-python",
   "name": "python",
   "nbconvert_exporter": "python",
   "pygments_lexer": "ipython3",
   "version": "3.12.0"
  }
 },
 "nbformat": 4,
 "nbformat_minor": 2
}
