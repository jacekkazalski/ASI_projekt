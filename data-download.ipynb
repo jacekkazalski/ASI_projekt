{
 "cells": [
  {
   "cell_type": "code",
   "execution_count": 8,
   "metadata": {},
   "outputs": [],
   "source": [
    "import kagglehub\n",
    "import shutil\n",
    "import os"
   ]
  },
  {
   "cell_type": "code",
   "execution_count": null,
   "metadata": {},
   "outputs": [
    {
     "name": "stdout",
     "output_type": "stream",
     "text": [
      "Path to dataset files: /home/admin/.cache/kagglehub/datasets/bartoszpieniak/poland-cars-for-sale-dataset/versions/3\n"
     ]
    }
   ],
   "source": [
    "# Downloading dataset from kaggle and moving it to project dir\n",
    "\n",
    "path = kagglehub.dataset_download(\"bartoszpieniak/poland-cars-for-sale-dataset\")\n",
    "project_dir = \"data\"\n",
    "os.makedirs(project_dir, exist_ok=True)\n",
    "print(\"Path to dataset files:\", path)\n",
    "\n",
    "for file in os.listdir(path):\n",
    "    file_name = os.path.join(path, file)\n",
    "    shutil.move(file_name, project_dir)"
   ]
  }
 ],
 "metadata": {
  "kernelspec": {
   "display_name": ".venv",
   "language": "python",
   "name": "python3"
  },
  "language_info": {
   "codemirror_mode": {
    "name": "ipython",
    "version": 3
   },
   "file_extension": ".py",
   "mimetype": "text/x-python",
   "name": "python",
   "nbconvert_exporter": "python",
   "pygments_lexer": "ipython3",
   "version": "3.11.2"
  }
 },
 "nbformat": 4,
 "nbformat_minor": 2
}
